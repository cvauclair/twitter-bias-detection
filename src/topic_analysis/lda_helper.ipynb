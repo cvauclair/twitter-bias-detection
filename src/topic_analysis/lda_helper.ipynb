{
 "cells": [
  {
   "cell_type": "code",
   "execution_count": 1,
   "metadata": {},
   "outputs": [],
   "source": [
    "import pandas as pd\n",
    "import nltk\n",
    "from nltk.corpus import stopwords\n",
    "from nltk.stem import WordNetLemmatizer, SnowballStemmer\n",
    "from nltk.stem.porter import *\n",
    "import gensim\n",
    "import string\n",
    "from collections import OrderedDict\n",
    "from gensim import corpora, models, similarities\n",
    "import seaborn as sns\n",
    "import pyLDAvis.gensim\n",
    "import matplotlib.pyplot as plt\n",
    "\n",
    "\n",
    "class LDAHelper:\n",
    "    \"\"\"\n",
    "    Current LDAHelper implementation within pipeline\n",
    "    \"\"\"\n",
    "    def __init__(self):\n",
    "        self.version = 0\n",
    "        self.stopwords = [\n",
    "            'RT',\n",
    "            'rt'\n",
    "        ] + stopwords.words('english') + list(string.punctuation)\n",
    "\n",
    "    def clean_up(self, word):\n",
    "        \"\"\"\n",
    "        Clean up punctuation.\n",
    "        Lower case string.\n",
    "        :param word: full length tweet\n",
    "        :return: Cleaned up tweet\n",
    "        \"\"\"\n",
    "        return word.translate(None, string.punctuation)\n",
    "\n",
    "    def lemmatize_stemming(self, word_without_punctuation):\n",
    "        \"\"\"\n",
    "        Lemmatize and stemming a word\n",
    "        :param word_without_punctuation:\n",
    "        :return: resulting word\n",
    "        \"\"\"\n",
    "        stemmer = SnowballStemmer('english')\n",
    "        return stemmer.stem(WordNetLemmatizer().lemmatize(word_without_punctuation, pos='v'))\n",
    "    \n",
    "    def valid(self, word):\n",
    "        \"\"\"\n",
    "        Verify the validity of a word.\n",
    "        :param word: word in a tweet\n",
    "        :return: True if the word passes a set of rules. To be formalized later\n",
    "        \"\"\"\n",
    "        return word not in self.stopwords and word[:1] != '@' and word[:4] != 'http'\n",
    "\n",
    "    def preprocess(self, tweet):\n",
    "        \"\"\"\n",
    "        Applying lemmatization and stemming to any word that is not part of\n",
    "        our stopwords\n",
    "        :param tweet: Full tweet\n",
    "        :return: Array of processed words\n",
    "        \"\"\"\n",
    "        return [self.lemmatize_stemming(word)\n",
    "                for word in gensim.utils.simple_preprocess(tweet, min_len=3)\n",
    "                if self.valid(word)]\n",
    "    \n",
    "    def preprocess_without_LS(self, tweet):\n",
    "        \"\"\"\n",
    "        Pre processing without lemmatization and stemming to test results \n",
    "        from this paper http://www.cs.cornell.edu/~xanda/winlp2017.pdf?fbclid=IwAR1v1kud8O551DJysvtuU2UC0Ra-oAAPLban_ZiKfyvN58_aWCjZUdjMQeM\n",
    "        :param tweet: Full tweet\n",
    "        :return: Array of processed words\n",
    "        \"\"\"\n",
    "        return [word\n",
    "                for word in gensim.utils.simple_preprocess(tweet, min_len=3)\n",
    "                if self.valid(word)]\n",
    "    "
   ]
  },
  {
   "cell_type": "code",
   "execution_count": 2,
   "metadata": {},
   "outputs": [
    {
     "data": {
      "text/plain": [
       "[u'good',\n",
       " u'see',\n",
       " u'republican',\n",
       " u'win',\n",
       " u'great',\n",
       " u'state',\n",
       " u'alabama',\n",
       " u'senat',\n",
       " u'seat',\n",
       " u'back',\n",
       " u'lightweight',\n",
       " u'senat',\n",
       " u'dougjon',\n",
       " u'cast',\n",
       " u'partisan',\n",
       " u'vote',\n",
       " u'impeach',\n",
       " u'hoax',\n",
       " u'think',\n",
       " u'boss',\n",
       " u'cryin',\n",
       " u'chuck',\n",
       " u'would',\n",
       " u'forc',\n",
       " u'vote',\n",
       " u'hoax',\n",
       " u'noth',\n",
       " u'stiff']"
      ]
     },
     "execution_count": 2,
     "metadata": {},
     "output_type": "execute_result"
    }
   ],
   "source": [
    "l = LDAHelper()\n",
    "l.preprocess('So good to see that Republicans will be winning the Great State of Alabama Senate Seat back, now that lightweight Senator @DougJones cast a partisan vote for the Impeachment Hoax. Thought his boss, Cryin’ Chuck, would have forced him to vote against the Hoax. A Do Nothing Stiff!')"
   ]
  },
  {
   "cell_type": "markdown",
   "metadata": {},
   "source": [
    "### PROOF OF CONCEPT\n",
    "Experiment is ran on 1.6 million english tweets from users across the world. No specific topics are expected"
   ]
  },
  {
   "cell_type": "code",
   "execution_count": 3,
   "metadata": {},
   "outputs": [
    {
     "ename": "IOError",
     "evalue": "File ./training_set.csv does not exist",
     "output_type": "error",
     "traceback": [
      "\u001b[0;31m---------------------------------------------------------------------------\u001b[0m",
      "\u001b[0;31mIOError\u001b[0m                                   Traceback (most recent call last)",
      "\u001b[0;32m<ipython-input-3-7754df8583fe>\u001b[0m in \u001b[0;36m<module>\u001b[0;34m()\u001b[0m\n\u001b[1;32m      1\u001b[0m \u001b[0;31m# Load dataset\u001b[0m\u001b[0;34m\u001b[0m\u001b[0;34m\u001b[0m\u001b[0m\n\u001b[1;32m      2\u001b[0m \u001b[0mdataset\u001b[0m \u001b[0;34m=\u001b[0m \u001b[0;34m'./training_set.csv'\u001b[0m\u001b[0;34m\u001b[0m\u001b[0m\n\u001b[0;32m----> 3\u001b[0;31m \u001b[0mtweets\u001b[0m \u001b[0;34m=\u001b[0m \u001b[0mpd\u001b[0m\u001b[0;34m.\u001b[0m\u001b[0mread_csv\u001b[0m\u001b[0;34m(\u001b[0m\u001b[0mdataset\u001b[0m\u001b[0;34m,\u001b[0m \u001b[0mencoding\u001b[0m\u001b[0;34m=\u001b[0m\u001b[0;34m'latin1'\u001b[0m\u001b[0;34m)\u001b[0m\u001b[0;34m\u001b[0m\u001b[0m\n\u001b[0m\u001b[1;32m      4\u001b[0m \u001b[0mtweets\u001b[0m \u001b[0;34m=\u001b[0m \u001b[0mtweets\u001b[0m\u001b[0;34m[\u001b[0m\u001b[0;34m'Tweet'\u001b[0m\u001b[0;34m]\u001b[0m\u001b[0;34m\u001b[0m\u001b[0m\n\u001b[1;32m      5\u001b[0m \u001b[0mtweets\u001b[0m\u001b[0;34m.\u001b[0m\u001b[0mhead\u001b[0m\u001b[0;34m(\u001b[0m\u001b[0;36m5\u001b[0m\u001b[0;34m)\u001b[0m\u001b[0;34m\u001b[0m\u001b[0m\n",
      "\u001b[0;32m/Users/karinemellata/anaconda2/lib/python2.7/site-packages/pandas/io/parsers.pyc\u001b[0m in \u001b[0;36mparser_f\u001b[0;34m(filepath_or_buffer, sep, delimiter, header, names, index_col, usecols, squeeze, prefix, mangle_dupe_cols, dtype, engine, converters, true_values, false_values, skipinitialspace, skiprows, nrows, na_values, keep_default_na, na_filter, verbose, skip_blank_lines, parse_dates, infer_datetime_format, keep_date_col, date_parser, dayfirst, iterator, chunksize, compression, thousands, decimal, lineterminator, quotechar, quoting, escapechar, comment, encoding, dialect, tupleize_cols, error_bad_lines, warn_bad_lines, skipfooter, doublequote, delim_whitespace, low_memory, memory_map, float_precision)\u001b[0m\n\u001b[1;32m    676\u001b[0m                     skip_blank_lines=skip_blank_lines)\n\u001b[1;32m    677\u001b[0m \u001b[0;34m\u001b[0m\u001b[0m\n\u001b[0;32m--> 678\u001b[0;31m         \u001b[0;32mreturn\u001b[0m \u001b[0m_read\u001b[0m\u001b[0;34m(\u001b[0m\u001b[0mfilepath_or_buffer\u001b[0m\u001b[0;34m,\u001b[0m \u001b[0mkwds\u001b[0m\u001b[0;34m)\u001b[0m\u001b[0;34m\u001b[0m\u001b[0m\n\u001b[0m\u001b[1;32m    679\u001b[0m \u001b[0;34m\u001b[0m\u001b[0m\n\u001b[1;32m    680\u001b[0m     \u001b[0mparser_f\u001b[0m\u001b[0;34m.\u001b[0m\u001b[0m__name__\u001b[0m \u001b[0;34m=\u001b[0m \u001b[0mname\u001b[0m\u001b[0;34m\u001b[0m\u001b[0m\n",
      "\u001b[0;32m/Users/karinemellata/anaconda2/lib/python2.7/site-packages/pandas/io/parsers.pyc\u001b[0m in \u001b[0;36m_read\u001b[0;34m(filepath_or_buffer, kwds)\u001b[0m\n\u001b[1;32m    438\u001b[0m \u001b[0;34m\u001b[0m\u001b[0m\n\u001b[1;32m    439\u001b[0m     \u001b[0;31m# Create the parser.\u001b[0m\u001b[0;34m\u001b[0m\u001b[0;34m\u001b[0m\u001b[0m\n\u001b[0;32m--> 440\u001b[0;31m     \u001b[0mparser\u001b[0m \u001b[0;34m=\u001b[0m \u001b[0mTextFileReader\u001b[0m\u001b[0;34m(\u001b[0m\u001b[0mfilepath_or_buffer\u001b[0m\u001b[0;34m,\u001b[0m \u001b[0;34m**\u001b[0m\u001b[0mkwds\u001b[0m\u001b[0;34m)\u001b[0m\u001b[0;34m\u001b[0m\u001b[0m\n\u001b[0m\u001b[1;32m    441\u001b[0m \u001b[0;34m\u001b[0m\u001b[0m\n\u001b[1;32m    442\u001b[0m     \u001b[0;32mif\u001b[0m \u001b[0mchunksize\u001b[0m \u001b[0;32mor\u001b[0m \u001b[0miterator\u001b[0m\u001b[0;34m:\u001b[0m\u001b[0;34m\u001b[0m\u001b[0m\n",
      "\u001b[0;32m/Users/karinemellata/anaconda2/lib/python2.7/site-packages/pandas/io/parsers.pyc\u001b[0m in \u001b[0;36m__init__\u001b[0;34m(self, f, engine, **kwds)\u001b[0m\n\u001b[1;32m    785\u001b[0m             \u001b[0mself\u001b[0m\u001b[0;34m.\u001b[0m\u001b[0moptions\u001b[0m\u001b[0;34m[\u001b[0m\u001b[0;34m'has_index_names'\u001b[0m\u001b[0;34m]\u001b[0m \u001b[0;34m=\u001b[0m \u001b[0mkwds\u001b[0m\u001b[0;34m[\u001b[0m\u001b[0;34m'has_index_names'\u001b[0m\u001b[0;34m]\u001b[0m\u001b[0;34m\u001b[0m\u001b[0m\n\u001b[1;32m    786\u001b[0m \u001b[0;34m\u001b[0m\u001b[0m\n\u001b[0;32m--> 787\u001b[0;31m         \u001b[0mself\u001b[0m\u001b[0;34m.\u001b[0m\u001b[0m_make_engine\u001b[0m\u001b[0;34m(\u001b[0m\u001b[0mself\u001b[0m\u001b[0;34m.\u001b[0m\u001b[0mengine\u001b[0m\u001b[0;34m)\u001b[0m\u001b[0;34m\u001b[0m\u001b[0m\n\u001b[0m\u001b[1;32m    788\u001b[0m \u001b[0;34m\u001b[0m\u001b[0m\n\u001b[1;32m    789\u001b[0m     \u001b[0;32mdef\u001b[0m \u001b[0mclose\u001b[0m\u001b[0;34m(\u001b[0m\u001b[0mself\u001b[0m\u001b[0;34m)\u001b[0m\u001b[0;34m:\u001b[0m\u001b[0;34m\u001b[0m\u001b[0m\n",
      "\u001b[0;32m/Users/karinemellata/anaconda2/lib/python2.7/site-packages/pandas/io/parsers.pyc\u001b[0m in \u001b[0;36m_make_engine\u001b[0;34m(self, engine)\u001b[0m\n\u001b[1;32m   1012\u001b[0m     \u001b[0;32mdef\u001b[0m \u001b[0m_make_engine\u001b[0m\u001b[0;34m(\u001b[0m\u001b[0mself\u001b[0m\u001b[0;34m,\u001b[0m \u001b[0mengine\u001b[0m\u001b[0;34m=\u001b[0m\u001b[0;34m'c'\u001b[0m\u001b[0;34m)\u001b[0m\u001b[0;34m:\u001b[0m\u001b[0;34m\u001b[0m\u001b[0m\n\u001b[1;32m   1013\u001b[0m         \u001b[0;32mif\u001b[0m \u001b[0mengine\u001b[0m \u001b[0;34m==\u001b[0m \u001b[0;34m'c'\u001b[0m\u001b[0;34m:\u001b[0m\u001b[0;34m\u001b[0m\u001b[0m\n\u001b[0;32m-> 1014\u001b[0;31m             \u001b[0mself\u001b[0m\u001b[0;34m.\u001b[0m\u001b[0m_engine\u001b[0m \u001b[0;34m=\u001b[0m \u001b[0mCParserWrapper\u001b[0m\u001b[0;34m(\u001b[0m\u001b[0mself\u001b[0m\u001b[0;34m.\u001b[0m\u001b[0mf\u001b[0m\u001b[0;34m,\u001b[0m \u001b[0;34m**\u001b[0m\u001b[0mself\u001b[0m\u001b[0;34m.\u001b[0m\u001b[0moptions\u001b[0m\u001b[0;34m)\u001b[0m\u001b[0;34m\u001b[0m\u001b[0m\n\u001b[0m\u001b[1;32m   1015\u001b[0m         \u001b[0;32melse\u001b[0m\u001b[0;34m:\u001b[0m\u001b[0;34m\u001b[0m\u001b[0m\n\u001b[1;32m   1016\u001b[0m             \u001b[0;32mif\u001b[0m \u001b[0mengine\u001b[0m \u001b[0;34m==\u001b[0m \u001b[0;34m'python'\u001b[0m\u001b[0;34m:\u001b[0m\u001b[0;34m\u001b[0m\u001b[0m\n",
      "\u001b[0;32m/Users/karinemellata/anaconda2/lib/python2.7/site-packages/pandas/io/parsers.pyc\u001b[0m in \u001b[0;36m__init__\u001b[0;34m(self, src, **kwds)\u001b[0m\n\u001b[1;32m   1706\u001b[0m         \u001b[0mkwds\u001b[0m\u001b[0;34m[\u001b[0m\u001b[0;34m'usecols'\u001b[0m\u001b[0;34m]\u001b[0m \u001b[0;34m=\u001b[0m \u001b[0mself\u001b[0m\u001b[0;34m.\u001b[0m\u001b[0musecols\u001b[0m\u001b[0;34m\u001b[0m\u001b[0m\n\u001b[1;32m   1707\u001b[0m \u001b[0;34m\u001b[0m\u001b[0m\n\u001b[0;32m-> 1708\u001b[0;31m         \u001b[0mself\u001b[0m\u001b[0;34m.\u001b[0m\u001b[0m_reader\u001b[0m \u001b[0;34m=\u001b[0m \u001b[0mparsers\u001b[0m\u001b[0;34m.\u001b[0m\u001b[0mTextReader\u001b[0m\u001b[0;34m(\u001b[0m\u001b[0msrc\u001b[0m\u001b[0;34m,\u001b[0m \u001b[0;34m**\u001b[0m\u001b[0mkwds\u001b[0m\u001b[0;34m)\u001b[0m\u001b[0;34m\u001b[0m\u001b[0m\n\u001b[0m\u001b[1;32m   1709\u001b[0m \u001b[0;34m\u001b[0m\u001b[0m\n\u001b[1;32m   1710\u001b[0m         \u001b[0mpassed_names\u001b[0m \u001b[0;34m=\u001b[0m \u001b[0mself\u001b[0m\u001b[0;34m.\u001b[0m\u001b[0mnames\u001b[0m \u001b[0;32mis\u001b[0m \u001b[0mNone\u001b[0m\u001b[0;34m\u001b[0m\u001b[0m\n",
      "\u001b[0;32mpandas/_libs/parsers.pyx\u001b[0m in \u001b[0;36mpandas._libs.parsers.TextReader.__cinit__\u001b[0;34m()\u001b[0m\n",
      "\u001b[0;32mpandas/_libs/parsers.pyx\u001b[0m in \u001b[0;36mpandas._libs.parsers.TextReader._setup_parser_source\u001b[0;34m()\u001b[0m\n",
      "\u001b[0;31mIOError\u001b[0m: File ./training_set.csv does not exist"
     ]
    }
   ],
   "source": [
    "# Load dataset\n",
    "dataset = './training_set.csv'\n",
    "tweets = pd.read_csv(dataset, encoding='latin1')\n",
    "tweets = tweets['Tweet']\n",
    "tweets.head(5)"
   ]
  },
  {
   "cell_type": "code",
   "execution_count": null,
   "metadata": {},
   "outputs": [],
   "source": [
    "# Preprocessing all tweets\n",
    "# 1. Separating a tweet into array of words\n",
    "# 2. Lemmatization and stemming\n",
    "# 3. Removing all stopwords, @Username, links and words of length less than 2\n",
    "corpus = []\n",
    "for tweet in tweets:\n",
    "    corpus.append(l.preprocess_without_LS(tweet))\n",
    "\n",
    "corpus[0:10]"
   ]
  },
  {
   "cell_type": "code",
   "execution_count": null,
   "metadata": {},
   "outputs": [],
   "source": [
    "# 1. Transforming corpus into Dictionary (mapping of normalized words to integer ID)\n",
    "# 2. Transforming each tweet into bag of words (Mapping of word to its occurence in tweet)\n",
    "# 3. TDIDF (term frequency-inverse document frequency) Model created\n",
    "dictionary = corpora.Dictionary(corpus)\n",
    "bow_corpus = [dictionary.doc2bow(text) for text in corpus]\n",
    "tfidf = models.TfidfModel(bow_corpus)\n",
    "corpus_tfidf = tfidf[bow_corpus]"
   ]
  },
  {
   "cell_type": "code",
   "execution_count": null,
   "metadata": {},
   "outputs": [],
   "source": [
    "# LDA Model created\n",
    "total_topics = 5\n",
    "lda = models.LdaModel(bow_corpus, id2word=dictionary, num_topics=total_topics)\n",
    "corpus_lda = lda[bow_corpus]"
   ]
  },
  {
   "cell_type": "code",
   "execution_count": null,
   "metadata": {},
   "outputs": [],
   "source": [
    "lda.show_topics(total_topics, 5)"
   ]
  },
  {
   "cell_type": "code",
   "execution_count": null,
   "metadata": {},
   "outputs": [],
   "source": [
    "# Save our model - Eventually to EC2 Instance\n",
    "from gensim.test.utils import datapath\n",
    "\n",
    "temp_file = datapath(\"general_tweets_NO_LS_model\")\n",
    "lda.save(temp_file)"
   ]
  },
  {
   "cell_type": "code",
   "execution_count": null,
   "metadata": {},
   "outputs": [],
   "source": [
    "# Show mapping of words to topics\n",
    "data_lda = {i: OrderedDict(lda.show_topic(i,25)) for i in range(total_topics)}\n",
    "df_lda = pd.DataFrame(data_lda)\n",
    "df_lda = df_lda.fillna(0).T\n",
    "df_lda"
   ]
  },
  {
   "cell_type": "code",
   "execution_count": null,
   "metadata": {},
   "outputs": [],
   "source": [
    "g=sns.clustermap(df_lda.corr(), \n",
    "                 center=0, \n",
    "                 standard_scale=1, \n",
    "                 cmap=\"RdBu\", \n",
    "                 metric='cosine', \n",
    "                 linewidths=.75, \n",
    "                 figsize=(15, 15))\n",
    "plt.setp(g.ax_heatmap.yaxis.get_majorticklabels(), rotation=0)\n",
    "plt.show()"
   ]
  },
  {
   "cell_type": "markdown",
   "metadata": {},
   "source": [
    "### EXPERIMENT ON HISTORICAL DONALD TRUMP TWEETS"
   ]
  },
  {
   "cell_type": "code",
   "execution_count": 5,
   "metadata": {},
   "outputs": [
    {
     "data": {
      "text/html": [
       "<div>\n",
       "<style scoped>\n",
       "    .dataframe tbody tr th:only-of-type {\n",
       "        vertical-align: middle;\n",
       "    }\n",
       "\n",
       "    .dataframe tbody tr th {\n",
       "        vertical-align: top;\n",
       "    }\n",
       "\n",
       "    .dataframe thead th {\n",
       "        text-align: right;\n",
       "    }\n",
       "</style>\n",
       "<table border=\"1\" class=\"dataframe\">\n",
       "  <thead>\n",
       "    <tr style=\"text-align: right;\">\n",
       "      <th></th>\n",
       "      <th>text</th>\n",
       "    </tr>\n",
       "  </thead>\n",
       "  <tbody>\n",
       "    <tr>\n",
       "      <th>0</th>\n",
       "      <td>Thank you @BlueAngels and @AFThunderbirds! #Am...</td>\n",
       "    </tr>\n",
       "    <tr>\n",
       "      <th>1</th>\n",
       "      <td>RT @TomFitton: BREAKING: Emails show Obama FBI...</td>\n",
       "    </tr>\n",
       "    <tr>\n",
       "      <th>2</th>\n",
       "      <td>RT @nedryun: A fifth to half of all coronaviru...</td>\n",
       "    </tr>\n",
       "    <tr>\n",
       "      <th>3</th>\n",
       "      <td>RT @GreggJarrett: Newly Declassified Documents...</td>\n",
       "    </tr>\n",
       "    <tr>\n",
       "      <th>4</th>\n",
       "      <td>RT @GreggJarrett: Newly Revealed Docs Support ...</td>\n",
       "    </tr>\n",
       "  </tbody>\n",
       "</table>\n",
       "</div>"
      ],
      "text/plain": [
       "                                                text\n",
       "0  Thank you @BlueAngels and @AFThunderbirds! #Am...\n",
       "1  RT @TomFitton: BREAKING: Emails show Obama FBI...\n",
       "2  RT @nedryun: A fifth to half of all coronaviru...\n",
       "3  RT @GreggJarrett: Newly Declassified Documents...\n",
       "4  RT @GreggJarrett: Newly Revealed Docs Support ..."
      ]
     },
     "execution_count": 5,
     "metadata": {},
     "output_type": "execute_result"
    }
   ],
   "source": [
    "dataset = './donald_trump_tweets.csv'\n",
    "tweets = pd.read_csv(dataset, encoding='latin1')\n",
    "tweets.head(5)"
   ]
  },
  {
   "cell_type": "code",
   "execution_count": 6,
   "metadata": {},
   "outputs": [
    {
     "data": {
      "text/plain": [
       "[[u'thank',\n",
       "  u'blueangels',\n",
       "  u'afthunderbirds',\n",
       "  u'americastrong',\n",
       "  u'ozyfjbt',\n",
       "  u'vokysmd'],\n",
       " [u'tomfitton',\n",
       "  u'breaking',\n",
       "  u'emails',\n",
       "  u'show',\n",
       "  u'obama',\n",
       "  u'fbi',\n",
       "  u'get',\n",
       "  u'genflynn',\n",
       "  u'also',\n",
       "  u'knew',\n",
       "  u'mccain',\n",
       "  u'leaked',\n",
       "  u'anti',\n",
       "  u'realdonaldtrump',\n",
       "  u'dossier',\n",
       "  u'judicia\\xe2'],\n",
       " [u'nedryun',\n",
       "  u'fifth',\n",
       "  u'half',\n",
       "  u'coronavirus',\n",
       "  u'deaths',\n",
       "  u'nursing',\n",
       "  u'homes',\n",
       "  u'clfe'],\n",
       " [u'greggjarrett',\n",
       "  u'newly',\n",
       "  u'declassified',\n",
       "  u'documents',\n",
       "  u'show',\n",
       "  u'john',\n",
       "  u'kerry\\xe2',\n",
       "  u'state',\n",
       "  u'department',\n",
       "  u'spread',\n",
       "  u'russia',\n",
       "  u'collusion',\n",
       "  u'narrative',\n",
       "  u'glrdt'],\n",
       " [u'greggjarrett',\n",
       "  u'newly',\n",
       "  u'revealed',\n",
       "  u'docs',\n",
       "  u'support',\n",
       "  u'flynn\\xe2',\n",
       "  u'innocence',\n",
       "  u'case',\n",
       "  u'tossed',\n",
       "  u'znfzz',\n",
       "  u'vuy'],\n",
       " [u'love',\n",
       "  u'diamond',\n",
       "  u'amp',\n",
       "  u'silk',\n",
       "  u'millions',\n",
       "  u'people',\n",
       "  u'rbx',\n",
       "  u'bmfiwh'],\n",
       " [u'whitehouse',\n",
       "  u'days',\n",
       "  u'ago',\n",
       "  u'business',\n",
       "  u'leaders',\n",
       "  u'joined',\n",
       "  u'president',\n",
       "  u'realdonaldtrump',\n",
       "  u'rose',\n",
       "  u'garden',\n",
       "  u'help',\n",
       "  u'launch',\n",
       "  u'new',\n",
       "  u'critical',\n",
       "  u'partnersh\\xe2'],\n",
       " [u'texas',\n",
       "  u'open',\n",
       "  u'businesses',\n",
       "  u'phases',\n",
       "  u'beginning',\n",
       "  u'friday',\n",
       "  u'great',\n",
       "  u'job',\n",
       "  u'done',\n",
       "  u'gregabbott_tx'],\n",
       " [u'many', u'states', u'moving', u'safely', u'amp', u'quickly', u'reopen'],\n",
       " [u'far',\n",
       "  u'better',\n",
       "  u'testing',\n",
       "  u'country',\n",
       "  u'world',\n",
       "  u'yet',\n",
       "  u'media',\n",
       "  u'nothing',\n",
       "  u'complain',\n",
       "  u'matter',\n",
       "  u'good',\n",
       "  u'job',\n",
       "  u'done',\n",
       "  u'ventilators',\n",
       "  u'never',\n",
       "  u'say',\n",
       "  u'great',\n",
       "  u'job',\n",
       "  u'viciously',\n",
       "  u'gripe']]"
      ]
     },
     "execution_count": 6,
     "metadata": {},
     "output_type": "execute_result"
    }
   ],
   "source": [
    "corpus_DT = []\n",
    "for tweet in tweets['text']:\n",
    "    corpus_DT.append(l.preprocess_without_LS(tweet))\n",
    "\n",
    "corpus_DT[0:10]"
   ]
  },
  {
   "cell_type": "code",
   "execution_count": 7,
   "metadata": {},
   "outputs": [],
   "source": [
    "dictionary = corpora.Dictionary(corpus_DT)\n",
    "bow_corpus = [dictionary.doc2bow(text) for text in corpus_DT]\n",
    "#tfidf = models.TfidfModel(bow_corpus)\n",
    "#corpus_tfidf = tfidf[bow_corpus]"
   ]
  },
  {
   "cell_type": "code",
   "execution_count": 8,
   "metadata": {},
   "outputs": [],
   "source": [
    "total_topics = 5\n",
    "lda = models.LdaModel(bow_corpus, \n",
    "                      id2word=dictionary, \n",
    "                      num_topics=total_topics)\n",
    "corpus_lda = lda[corpus_tfidf]"
   ]
  },
  {
   "cell_type": "code",
   "execution_count": 9,
   "metadata": {},
   "outputs": [
    {
     "data": {
      "text/plain": [
       "[(0,\n",
       "  u'0.039*\"trump\" + 0.035*\"realdonaldtrump\" + 0.031*\"great\" + 0.030*\"barackobama\" + 0.024*\"thanks\" + 0.015*\"donald\" + 0.012*\"america\" + 0.011*\"thank\" + 0.009*\"new\" + 0.008*\"com\"'),\n",
       " (1,\n",
       "  u'0.021*\"realdonaldtrump\" + 0.014*\"obama\" + 0.009*\"think\" + 0.009*\"would\" + 0.009*\"like\" + 0.009*\"apprentice\" + 0.008*\"trump\" + 0.007*\"president\" + 0.007*\"amp\" + 0.006*\"china\"'),\n",
       " (2,\n",
       "  u'0.010*\"happy\" + 0.009*\"tonight\" + 0.009*\"iran\" + 0.009*\"thanks\" + 0.008*\"realdonaldtrump\" + 0.007*\"art\" + 0.006*\"interview\" + 0.006*\"discussing\" + 0.006*\"obama\" + 0.006*\"iraq\"'),\n",
       " (3,\n",
       "  u'0.029*\"cont\" + 0.009*\"jobs\" + 0.009*\"great\" + 0.009*\"tower\" + 0.009*\"bit\" + 0.008*\"amp\" + 0.006*\"miss\" + 0.006*\"timetogettough\" + 0.006*\"tune\" + 0.005*\"country\"'),\n",
       " (4,\n",
       "  u'0.010*\"great\" + 0.010*\"amp\" + 0.009*\"new\" + 0.007*\"hotel\" + 0.006*\"get\" + 0.005*\"people\" + 0.005*\"must\" + 0.005*\"scotland\" + 0.005*\"mittromney\" + 0.004*\"work\"')]"
      ]
     },
     "execution_count": 9,
     "metadata": {},
     "output_type": "execute_result"
    }
   ],
   "source": [
    "lda.show_topics(total_topics,10)"
   ]
  },
  {
   "cell_type": "code",
   "execution_count": 10,
   "metadata": {},
   "outputs": [
    {
     "data": {
      "text/html": [
       "<div>\n",
       "<style scoped>\n",
       "    .dataframe tbody tr th:only-of-type {\n",
       "        vertical-align: middle;\n",
       "    }\n",
       "\n",
       "    .dataframe tbody tr th {\n",
       "        vertical-align: top;\n",
       "    }\n",
       "\n",
       "    .dataframe thead th {\n",
       "        text-align: right;\n",
       "    }\n",
       "</style>\n",
       "<table border=\"1\" class=\"dataframe\">\n",
       "  <thead>\n",
       "    <tr style=\"text-align: right;\">\n",
       "      <th></th>\n",
       "      <th>amazing</th>\n",
       "      <th>america</th>\n",
       "      <th>amp</th>\n",
       "      <th>apprentice</th>\n",
       "      <th>art</th>\n",
       "      <th>attack</th>\n",
       "      <th>back</th>\n",
       "      <th>barackobama</th>\n",
       "      <th>best</th>\n",
       "      <th>birthday</th>\n",
       "      <th>...</th>\n",
       "      <th>unemployment</th>\n",
       "      <th>via</th>\n",
       "      <th>waste</th>\n",
       "      <th>wind</th>\n",
       "      <th>work</th>\n",
       "      <th>world</th>\n",
       "      <th>would</th>\n",
       "      <th>yankees</th>\n",
       "      <th>yes</th>\n",
       "      <th>york</th>\n",
       "    </tr>\n",
       "  </thead>\n",
       "  <tbody>\n",
       "    <tr>\n",
       "      <th>0</th>\n",
       "      <td>0.004333</td>\n",
       "      <td>0.011696</td>\n",
       "      <td>0.000000</td>\n",
       "      <td>0.000000</td>\n",
       "      <td>0.000000</td>\n",
       "      <td>0.000000</td>\n",
       "      <td>0.000000</td>\n",
       "      <td>0.029854</td>\n",
       "      <td>0.005029</td>\n",
       "      <td>0.000000</td>\n",
       "      <td>...</td>\n",
       "      <td>0.000000</td>\n",
       "      <td>0.007426</td>\n",
       "      <td>0.000000</td>\n",
       "      <td>0.000000</td>\n",
       "      <td>0.0000</td>\n",
       "      <td>0.004197</td>\n",
       "      <td>0.000000</td>\n",
       "      <td>0.000000</td>\n",
       "      <td>0.00000</td>\n",
       "      <td>0.000000</td>\n",
       "    </tr>\n",
       "    <tr>\n",
       "      <th>1</th>\n",
       "      <td>0.000000</td>\n",
       "      <td>0.000000</td>\n",
       "      <td>0.006518</td>\n",
       "      <td>0.008522</td>\n",
       "      <td>0.000000</td>\n",
       "      <td>0.000000</td>\n",
       "      <td>0.000000</td>\n",
       "      <td>0.000000</td>\n",
       "      <td>0.000000</td>\n",
       "      <td>0.000000</td>\n",
       "      <td>...</td>\n",
       "      <td>0.000000</td>\n",
       "      <td>0.000000</td>\n",
       "      <td>0.000000</td>\n",
       "      <td>0.000000</td>\n",
       "      <td>0.0000</td>\n",
       "      <td>0.000000</td>\n",
       "      <td>0.008745</td>\n",
       "      <td>0.000000</td>\n",
       "      <td>0.00000</td>\n",
       "      <td>0.000000</td>\n",
       "    </tr>\n",
       "    <tr>\n",
       "      <th>2</th>\n",
       "      <td>0.000000</td>\n",
       "      <td>0.000000</td>\n",
       "      <td>0.003940</td>\n",
       "      <td>0.000000</td>\n",
       "      <td>0.007329</td>\n",
       "      <td>0.004582</td>\n",
       "      <td>0.000000</td>\n",
       "      <td>0.000000</td>\n",
       "      <td>0.000000</td>\n",
       "      <td>0.004541</td>\n",
       "      <td>...</td>\n",
       "      <td>0.000000</td>\n",
       "      <td>0.000000</td>\n",
       "      <td>0.000000</td>\n",
       "      <td>0.000000</td>\n",
       "      <td>0.0000</td>\n",
       "      <td>0.000000</td>\n",
       "      <td>0.000000</td>\n",
       "      <td>0.000000</td>\n",
       "      <td>0.00000</td>\n",
       "      <td>0.000000</td>\n",
       "    </tr>\n",
       "    <tr>\n",
       "      <th>3</th>\n",
       "      <td>0.000000</td>\n",
       "      <td>0.000000</td>\n",
       "      <td>0.007979</td>\n",
       "      <td>0.000000</td>\n",
       "      <td>0.000000</td>\n",
       "      <td>0.000000</td>\n",
       "      <td>0.000000</td>\n",
       "      <td>0.000000</td>\n",
       "      <td>0.003229</td>\n",
       "      <td>0.000000</td>\n",
       "      <td>...</td>\n",
       "      <td>0.004012</td>\n",
       "      <td>0.000000</td>\n",
       "      <td>0.000000</td>\n",
       "      <td>0.000000</td>\n",
       "      <td>0.0000</td>\n",
       "      <td>0.000000</td>\n",
       "      <td>0.000000</td>\n",
       "      <td>0.003603</td>\n",
       "      <td>0.00000</td>\n",
       "      <td>0.000000</td>\n",
       "    </tr>\n",
       "    <tr>\n",
       "      <th>4</th>\n",
       "      <td>0.000000</td>\n",
       "      <td>0.000000</td>\n",
       "      <td>0.009691</td>\n",
       "      <td>0.000000</td>\n",
       "      <td>0.000000</td>\n",
       "      <td>0.000000</td>\n",
       "      <td>0.003179</td>\n",
       "      <td>0.000000</td>\n",
       "      <td>0.000000</td>\n",
       "      <td>0.000000</td>\n",
       "      <td>...</td>\n",
       "      <td>0.000000</td>\n",
       "      <td>0.000000</td>\n",
       "      <td>0.003037</td>\n",
       "      <td>0.004242</td>\n",
       "      <td>0.0045</td>\n",
       "      <td>0.000000</td>\n",
       "      <td>0.000000</td>\n",
       "      <td>0.000000</td>\n",
       "      <td>0.00288</td>\n",
       "      <td>0.004078</td>\n",
       "    </tr>\n",
       "  </tbody>\n",
       "</table>\n",
       "<p>5 rows × 97 columns</p>\n",
       "</div>"
      ],
      "text/plain": [
       "    amazing   america       amp  apprentice       art    attack      back  \\\n",
       "0  0.004333  0.011696  0.000000    0.000000  0.000000  0.000000  0.000000   \n",
       "1  0.000000  0.000000  0.006518    0.008522  0.000000  0.000000  0.000000   \n",
       "2  0.000000  0.000000  0.003940    0.000000  0.007329  0.004582  0.000000   \n",
       "3  0.000000  0.000000  0.007979    0.000000  0.000000  0.000000  0.000000   \n",
       "4  0.000000  0.000000  0.009691    0.000000  0.000000  0.000000  0.003179   \n",
       "\n",
       "   barackobama      best  birthday    ...     unemployment       via  \\\n",
       "0     0.029854  0.005029  0.000000    ...         0.000000  0.007426   \n",
       "1     0.000000  0.000000  0.000000    ...         0.000000  0.000000   \n",
       "2     0.000000  0.000000  0.004541    ...         0.000000  0.000000   \n",
       "3     0.000000  0.003229  0.000000    ...         0.004012  0.000000   \n",
       "4     0.000000  0.000000  0.000000    ...         0.000000  0.000000   \n",
       "\n",
       "      waste      wind    work     world     would   yankees      yes      york  \n",
       "0  0.000000  0.000000  0.0000  0.004197  0.000000  0.000000  0.00000  0.000000  \n",
       "1  0.000000  0.000000  0.0000  0.000000  0.008745  0.000000  0.00000  0.000000  \n",
       "2  0.000000  0.000000  0.0000  0.000000  0.000000  0.000000  0.00000  0.000000  \n",
       "3  0.000000  0.000000  0.0000  0.000000  0.000000  0.003603  0.00000  0.000000  \n",
       "4  0.003037  0.004242  0.0045  0.000000  0.000000  0.000000  0.00288  0.004078  \n",
       "\n",
       "[5 rows x 97 columns]"
      ]
     },
     "execution_count": 10,
     "metadata": {},
     "output_type": "execute_result"
    }
   ],
   "source": [
    "data_lda = {i: OrderedDict(lda.show_topic(i,25)) for i in range(total_topics)}\n",
    "df_lda = pd.DataFrame(data_lda)\n",
    "df_lda = df_lda.fillna(0).T\n",
    "df_lda"
   ]
  },
  {
   "cell_type": "code",
   "execution_count": 11,
   "metadata": {},
   "outputs": [
    {
     "data": {
      "image/png": "[encoded data removed]",
      "text/plain": [
       "<Figure size 1080x1080 with 4 Axes>"
      ]
     },
     "metadata": {},
     "output_type": "display_data"
    }
   ],
   "source": [
    "g=sns.clustermap(df_lda.corr(), \n",
    "                 center=0, \n",
    "                 standard_scale=1, \n",
    "                 cmap=\"RdBu\", \n",
    "                 metric='cosine', \n",
    "                 linewidths=.75, \n",
    "                 figsize=(15, 15))\n",
    "\n",
    "plt.setp(g.ax_heatmap.yaxis.get_majorticklabels(), rotation=0)\n",
    "plt.show()"
   ]
  },
  {
   "cell_type": "code",
   "execution_count": 26,
   "metadata": {},
   "outputs": [
    {
     "data": {
      "text/plain": [
       "[(0, 0.03669953),\n",
       " (1, 0.45451155),\n",
       " (2, 0.092942655),\n",
       " (3, 0.035580307),\n",
       " (4, 0.38026598)]"
      ]
     },
     "execution_count": 26,
     "metadata": {},
     "output_type": "execute_result"
    }
   ],
   "source": [
    "# Let's try to predict one tweet for DT\n",
    "unseen_tweets = [\n",
    "'So good to see that Republicans will be winning the Great State of Alabama Senate Seat back, now that lightweight Senator @DougJones cast a partisan vote for the Impeachment Hoax. Thought his boss, Cryin’ Chuck, would have forced him to vote against the Hoax. A Do Nothing Stiff!',\n",
    "'Tune in the apprentice tonight and see which the celebrity wins our TV show!',\n",
    "'MAKE AMERICA GREAT AGAIN!' ]\n",
    "corpus_exp = [l.preprocess_without_LS(tweet) for tweet in unseen_tweets]\n",
    "bow_corpus = [dictionary.doc2bow(text) for text in corpus_exp]\n",
    "tfidf = models.TfidfModel(bow_corpus)\n",
    "corpus_tfidf = tfidf[bow_corpus]\n",
    "unseen_corpus_lda = lda[corpus_tfidf[0]]\n",
    "unseen_corpus_lda"
   ]
  },
  {
   "cell_type": "code",
   "execution_count": 25,
   "metadata": {},
   "outputs": [],
   "source": [
    "from gensim.test.utils import datapath\n",
    "\n",
    "#temp_file = datapath(\"./LDAmodel_realDonaldTrump\")\n",
    "lda.save(\"./LDAmodel_realDonaldTrump\")\n",
    "dictionary.save(\"./dictionary_realDonaldTrump\")"
   ]
  },
  {
   "cell_type": "code",
   "execution_count": 16,
   "metadata": {},
   "outputs": [
    {
     "ename": "NameError",
     "evalue": "name 'LdaModel' is not defined",
     "output_type": "error",
     "traceback": [
      "\u001b[0;31m---------------------------------------------------------------------------\u001b[0m",
      "\u001b[0;31mNameError\u001b[0m                                 Traceback (most recent call last)",
      "\u001b[0;32m<ipython-input-16-7ddc775ab79f>\u001b[0m in \u001b[0;36m<module>\u001b[0;34m()\u001b[0m\n\u001b[0;32m----> 1\u001b[0;31m \u001b[0mok\u001b[0m \u001b[0;34m=\u001b[0m \u001b[0mLdaModel\u001b[0m\u001b[0;34m.\u001b[0m\u001b[0mload\u001b[0m\u001b[0;34m(\u001b[0m\u001b[0;34m\"./LDAmodel_realDonaldTrump.id2word\"\u001b[0m\u001b[0;34m)\u001b[0m\u001b[0;34m\u001b[0m\u001b[0m\n\u001b[0m",
      "\u001b[0;31mNameError\u001b[0m: name 'LdaModel' is not defined"
     ]
    }
   ],
   "source": [
    "ok = LdaModel.load(\"./LDAmodel_realDonaldTrump.id2word\")"
   ]
  },
  {
   "cell_type": "code",
   "execution_count": null,
   "metadata": {},
   "outputs": [],
   "source": []
  },
  {
   "cell_type": "code",
   "execution_count": null,
   "metadata": {},
   "outputs": [],
   "source": []
  },
  {
   "cell_type": "code",
   "execution_count": null,
   "metadata": {},
   "outputs": [],
   "source": []
  }
 ],
 "metadata": {
  "kernelspec": {
   "display_name": "Python 2",
   "language": "python",
   "name": "python2"
  },
  "language_info": {
   "codemirror_mode": {
    "name": "ipython",
    "version": 2
   },
   "file_extension": ".py",
   "mimetype": "text/x-python",
   "name": "python",
   "nbconvert_exporter": "python",
   "pygments_lexer": "ipython2",
   "version": "2.7.15"
  }
 },
 "nbformat": 4,
 "nbformat_minor": 2
}
